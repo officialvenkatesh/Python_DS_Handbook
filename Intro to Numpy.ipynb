{
 "cells": [
  {
   "cell_type": "code",
   "execution_count": 1,
   "metadata": {},
   "outputs": [
    {
     "data": {
      "text/plain": [
       "'1.18.5'"
      ]
     },
     "execution_count": 1,
     "metadata": {},
     "output_type": "execute_result"
    }
   ],
   "source": [
    "import numpy as np\n",
    "np.__version__"
   ]
  },
  {
   "cell_type": "markdown",
   "metadata": {},
   "source": [
    "For help and documentation\n",
    "np.<\"Tab\">\n",
    "or np?"
   ]
  },
  {
   "cell_type": "markdown",
   "metadata": {},
   "source": [
    "## Exploring Data Types"
   ]
  },
  {
   "cell_type": "markdown",
   "metadata": {},
   "source": [
    "### Basic Data Types"
   ]
  },
  {
   "cell_type": "code",
   "execution_count": 6,
   "metadata": {},
   "outputs": [
    {
     "name": "stdout",
     "output_type": "stream",
     "text": [
      "Data type of x is <class 'int'>\n",
      "Data type of y is <class 'float'>\n",
      "Data type of z is <class 'str'>\n",
      "Data type of p is <class 'bool'>\n",
      "Data type of q is <class 'NoneType'>\n",
      "Data type of r is <class 'float'>\n"
     ]
    }
   ],
   "source": [
    "x = 2\n",
    "y = 2.1\n",
    "z = \"two\"\n",
    "p = True\n",
    "q = None\n",
    "r = np.nan\n",
    "\n",
    "print(\"Data type of x is\", type(x))\n",
    "print(\"Data type of y is\", type(y))\n",
    "print(\"Data type of z is\", type(z))\n",
    "print(\"Data type of p is\", type(p))\n",
    "print(\"Data type of q is\", type(q))\n",
    "print(\"Data type of r is\", type(r))"
   ]
  },
  {
   "cell_type": "markdown",
   "metadata": {},
   "source": [
    "### List"
   ]
  },
  {
   "cell_type": "code",
   "execution_count": 11,
   "metadata": {},
   "outputs": [
    {
     "name": "stdout",
     "output_type": "stream",
     "text": [
      "[0, 1, 2, 3, 4]\n",
      "<class 'list'>\n",
      "[<class 'int'>, <class 'int'>, <class 'int'>, <class 'int'>, <class 'int'>]\n"
     ]
    }
   ],
   "source": [
    "L = list(range(5))\n",
    "print(L)\n",
    "print(type(L))\n",
    "print([type(each) for each in L])"
   ]
  },
  {
   "cell_type": "code",
   "execution_count": 13,
   "metadata": {},
   "outputs": [
    {
     "name": "stdout",
     "output_type": "stream",
     "text": [
      "['0', '1', '2', '3', '4']\n",
      "<class 'list'>\n",
      "[<class 'str'>, <class 'str'>, <class 'str'>, <class 'str'>, <class 'str'>]\n"
     ]
    }
   ],
   "source": [
    "L2 = [str(each) for each in L]\n",
    "print(L2)\n",
    "print(type(L2))\n",
    "print([type(each) for each in L2])"
   ]
  },
  {
   "cell_type": "code",
   "execution_count": 14,
   "metadata": {},
   "outputs": [
    {
     "name": "stdout",
     "output_type": "stream",
     "text": [
      "[2, 2.1, 'two', True, None, nan]\n",
      "<class 'list'>\n",
      "[<class 'int'>, <class 'float'>, <class 'str'>, <class 'bool'>, <class 'NoneType'>, <class 'float'>]\n"
     ]
    }
   ],
   "source": [
    "L3 = [x, y, z, p, q, r]\n",
    "print(L3)\n",
    "print(type(L3))\n",
    "print([type(each) for each in L3])"
   ]
  },
  {
   "cell_type": "markdown",
   "metadata": {},
   "source": [
    "### Fixed type Arrays in python\n",
    "#### !not numpy arrays"
   ]
  },
  {
   "cell_type": "code",
   "execution_count": 15,
   "metadata": {},
   "outputs": [
    {
     "data": {
      "text/plain": [
       "array('i', [0, 1, 2, 3, 4])"
      ]
     },
     "execution_count": 15,
     "metadata": {},
     "output_type": "execute_result"
    }
   ],
   "source": [
    "import array\n",
    "A = array.array('i', L) #here i indicates that each entry is an integer\n",
    "A"
   ]
  },
  {
   "cell_type": "markdown",
   "metadata": {},
   "source": [
    "### Numpy Arrays"
   ]
  },
  {
   "cell_type": "code",
   "execution_count": 16,
   "metadata": {},
   "outputs": [
    {
     "data": {
      "text/plain": [
       "array([1, 2, 4, 3, 5])"
      ]
     },
     "execution_count": 16,
     "metadata": {},
     "output_type": "execute_result"
    }
   ],
   "source": [
    "np.array([1, 2, 4, 3, 5])"
   ]
  },
  {
   "cell_type": "code",
   "execution_count": 17,
   "metadata": {},
   "outputs": [
    {
     "data": {
      "text/plain": [
       "array([3.14, 2.  , 4.  , 3.  ])"
      ]
     },
     "execution_count": 17,
     "metadata": {},
     "output_type": "execute_result"
    }
   ],
   "source": [
    "np.array([3.14, 2, 4, 3])"
   ]
  },
  {
   "cell_type": "code",
   "execution_count": 18,
   "metadata": {},
   "outputs": [
    {
     "data": {
      "text/plain": [
       "array([[2, 3, 4],\n",
       "       [4, 5, 6],\n",
       "       [6, 7, 8]])"
      ]
     },
     "execution_count": 18,
     "metadata": {},
     "output_type": "execute_result"
    }
   ],
   "source": [
    "np.array([range(i, i+3) for i in [2, 4, 6]])"
   ]
  },
  {
   "cell_type": "code",
   "execution_count": 21,
   "metadata": {},
   "outputs": [
    {
     "data": {
      "text/plain": [
       "array([0., 0., 0., 0., 0., 0., 0., 0., 0., 0.])"
      ]
     },
     "execution_count": 21,
     "metadata": {},
     "output_type": "execute_result"
    }
   ],
   "source": [
    "#create an array of zeroes\n",
    "\n",
    "np.zeros(10)"
   ]
  },
  {
   "cell_type": "code",
   "execution_count": 22,
   "metadata": {},
   "outputs": [
    {
     "data": {
      "text/plain": [
       "array([0, 0, 0, 0, 0, 0, 0, 0, 0, 0])"
      ]
     },
     "execution_count": 22,
     "metadata": {},
     "output_type": "execute_result"
    }
   ],
   "source": [
    "#create an array of zeroes of data type as integers\n",
    "\n",
    "np.zeros(10, dtype = int)"
   ]
  },
  {
   "cell_type": "code",
   "execution_count": 24,
   "metadata": {},
   "outputs": [
    {
     "data": {
      "text/plain": [
       "array([[1., 1., 1., 1., 1.],\n",
       "       [1., 1., 1., 1., 1.],\n",
       "       [1., 1., 1., 1., 1.]])"
      ]
     },
     "execution_count": 24,
     "metadata": {},
     "output_type": "execute_result"
    }
   ],
   "source": [
    "#create a 3x5 array of one's\n",
    "\n",
    "np.ones([3, 5])"
   ]
  },
  {
   "cell_type": "code",
   "execution_count": 25,
   "metadata": {},
   "outputs": [
    {
     "data": {
      "text/plain": [
       "array([[3.14, 3.14, 3.14, 3.14],\n",
       "       [3.14, 3.14, 3.14, 3.14],\n",
       "       [3.14, 3.14, 3.14, 3.14]])"
      ]
     },
     "execution_count": 25,
     "metadata": {},
     "output_type": "execute_result"
    }
   ],
   "source": [
    "#create a 3x4 array filled with 3.14\n",
    "\n",
    "np.full([3, 4], 3.14)"
   ]
  },
  {
   "cell_type": "code",
   "execution_count": 28,
   "metadata": {},
   "outputs": [
    {
     "data": {
      "text/plain": [
       "array([ 0,  2,  4,  6,  8, 10, 12, 14, 16, 18])"
      ]
     },
     "execution_count": 28,
     "metadata": {},
     "output_type": "execute_result"
    }
   ],
   "source": [
    "#create an array filled with linear sequence\n",
    "\n",
    "np.arange(0, 20, 2)"
   ]
  },
  {
   "cell_type": "code",
   "execution_count": 32,
   "metadata": {},
   "outputs": [
    {
     "data": {
      "text/plain": [
       "array([ 0.,  3.,  6.,  9., 12., 15.])"
      ]
     },
     "execution_count": 32,
     "metadata": {},
     "output_type": "execute_result"
    }
   ],
   "source": [
    "#create an array of equally spaced numbers\n",
    "\n",
    "np.linspace(0, 15, 6)"
   ]
  },
  {
   "cell_type": "code",
   "execution_count": 33,
   "metadata": {},
   "outputs": [
    {
     "data": {
      "text/plain": [
       "array([[0.84913124, 0.28502097, 0.94546931],\n",
       "       [0.5989981 , 0.43918127, 0.77450468],\n",
       "       [0.56013366, 0.47261245, 0.45014158]])"
      ]
     },
     "execution_count": 33,
     "metadata": {},
     "output_type": "execute_result"
    }
   ],
   "source": [
    "#create an 3x3 array of uniformly distributed\n",
    "#random numbers between 0 and 1\n",
    "\n",
    "np.random.random((3,3))"
   ]
  },
  {
   "cell_type": "code",
   "execution_count": 37,
   "metadata": {},
   "outputs": [
    {
     "data": {
      "text/plain": [
       "array([[-1.30776182, -0.09535716,  1.71593346],\n",
       "       [ 1.2707295 , -0.99131439,  0.52520429],\n",
       "       [-0.53070082,  0.66874778,  0.55462402]])"
      ]
     },
     "execution_count": 37,
     "metadata": {},
     "output_type": "execute_result"
    }
   ],
   "source": [
    "#create an 3x3 array of normally distributed\n",
    "#random numbers with mu = 0, stdev = 1\n",
    "\n",
    "np.random.normal(0, 1, (3,3))"
   ]
  },
  {
   "cell_type": "code",
   "execution_count": 38,
   "metadata": {},
   "outputs": [
    {
     "data": {
      "text/plain": [
       "array([[2, 2, 1],\n",
       "       [7, 5, 0],\n",
       "       [8, 9, 6]])"
      ]
     },
     "execution_count": 38,
     "metadata": {},
     "output_type": "execute_result"
    }
   ],
   "source": [
    "#create an 3x3 array of random integers between 0 to 10\n",
    "\n",
    "np.random.randint(0, 10, (3,3))"
   ]
  },
  {
   "cell_type": "code",
   "execution_count": 40,
   "metadata": {},
   "outputs": [
    {
     "data": {
      "text/plain": [
       "array([[1, 0, 0, 0],\n",
       "       [0, 1, 0, 0],\n",
       "       [0, 0, 1, 0],\n",
       "       [0, 0, 0, 1]])"
      ]
     },
     "execution_count": 40,
     "metadata": {},
     "output_type": "execute_result"
    }
   ],
   "source": [
    "#create a 4x4 identity matrix\n",
    "\n",
    "np.eye(4, dtype = int)"
   ]
  },
  {
   "cell_type": "code",
   "execution_count": 42,
   "metadata": {},
   "outputs": [],
   "source": [
    "#set seed for reproducibility\n",
    "\n",
    "np.random.seed(42)"
   ]
  },
  {
   "cell_type": "markdown",
   "metadata": {},
   "source": [
    "### Numpy Array Attributes"
   ]
  },
  {
   "cell_type": "code",
   "execution_count": 47,
   "metadata": {},
   "outputs": [
    {
     "name": "stdout",
     "output_type": "stream",
     "text": [
      "Dimensions = 3\n",
      "Shape = (3, 4, 5)\n",
      "Size = 60\n",
      "Data Type = int32\n"
     ]
    }
   ],
   "source": [
    "x1 = np.random.randint(10, size = 6) #one dimensional\n",
    "x2 = np.random.randint(10, size = (3,4)) #2D\n",
    "x3 = np.random.randint(10, size = (3,4,5)) #3D\n",
    "\n",
    "print(\"Dimensions =\", x3.ndim)\n",
    "print(\"Shape =\", x3.shape)\n",
    "print(\"Size =\", x3.size)\n",
    "print(\"Data Type =\", x3.dtype)"
   ]
  },
  {
   "cell_type": "markdown",
   "metadata": {},
   "source": [
    "### Array Indexing"
   ]
  },
  {
   "cell_type": "code",
   "execution_count": 72,
   "metadata": {},
   "outputs": [
    {
     "name": "stdout",
     "output_type": "stream",
     "text": [
      "Full array = [7 0 8 8 1 6]\n",
      "First Element = 7\n",
      "Last Element = 6\n",
      "\n",
      "\n",
      "First 3 elements = [7 0 8]\n",
      "4 elements starting 2nd element = [0 8 8 1]\n",
      "Elements after 3rd element = [8 8 1 6]\n",
      "\n",
      "\n",
      "Every alternate element = [7 8 1]\n",
      "Every even element [0 8 6]\n",
      "\n",
      "\n",
      "Reversed list = [6 1 8 8 0 7]\n",
      "Reversed alternate element = [6 8 0]\n",
      "Reversed list starting 3rd element = [8 8 0 7]\n"
     ]
    }
   ],
   "source": [
    "#for 1D array\n",
    "\n",
    "print(\"Full array =\", x1)\n",
    "print(\"First Element =\", x1[0])\n",
    "print(\"Last Element =\", x1[-1])\n",
    "print(\"\\n\")\n",
    "\n",
    "print(\"First 3 elements =\", x1[:3])\n",
    "print(\"4 elements starting 2nd element =\", x1[1:5])\n",
    "print(\"Elements after 3rd element =\", x1[2:])\n",
    "print(\"\\n\")\n",
    "\n",
    "print(\"Every alternate element =\", x1[::2])\n",
    "print(\"Every even element\", x1[1::2])\n",
    "print(\"\\n\")\n",
    "\n",
    "print(\"Reversed list =\", x1[::-1])\n",
    "print(\"Reversed alternate element =\", x1[::-2])\n",
    "print(\"Reversed list starting 3rd element =\", x1[3::-1])"
   ]
  },
  {
   "cell_type": "code",
   "execution_count": 75,
   "metadata": {},
   "outputs": [
    {
     "name": "stdout",
     "output_type": "stream",
     "text": [
      "Full Array = [[ 9  2  6  9]\n",
      " [ 8  3  0  1]\n",
      " [ 0 12  4  6]]\n",
      "First Row = [9 2 6 9]\n",
      "Last Row = [ 0 12  4  6]\n",
      "\n",
      "\n",
      "First Column [9 8 0]\n",
      "Last Column [9 1 6]\n",
      "\n",
      "\n",
      "Second element of third row = 12\n",
      "All rows, every second column = [[9 6]\n",
      " [8 0]\n",
      " [0 4]]\n",
      "\n",
      "\n",
      "Full array reversed = [[ 6  4 12  0]\n",
      " [ 1  0  3  8]\n",
      " [ 9  6  2  9]]\n",
      "Array after modification = [[ 9  2  6  9]\n",
      " [ 8  3  0  1]\n",
      " [ 0 10  4  6]]\n"
     ]
    }
   ],
   "source": [
    "# for 2D array\n",
    "\n",
    "print(\"Full Array =\", x2)\n",
    "print(\"First Row =\", x2[0])\n",
    "print(\"Last Row =\", x2[-1])\n",
    "print(\"\\n\")\n",
    "\n",
    "print(\"First Column\", x2[:, 0])\n",
    "print(\"Last Column\", x2[:, -1])\n",
    "print(\"\\n\")\n",
    "\n",
    "print(\"Second element of third row =\", x2[2,1])\n",
    "print(\"All rows, every second column =\", x2[:, ::2])\n",
    "print(\"\\n\")\n",
    "\n",
    "print(\"Full array reversed =\", x2[::-1, ::-1])\n",
    "\n",
    "#modify array\n",
    "\n",
    "#let 2nd element of 3rd row be 12\n",
    "\n",
    "x2[2,1] = 10\n",
    "print(\"Array after modification =\", x2)"
   ]
  },
  {
   "cell_type": "markdown",
   "metadata": {},
   "source": [
    "#### It's important to create array subsets as copies. Else the original array gets modified"
   ]
  },
  {
   "cell_type": "code",
   "execution_count": 80,
   "metadata": {},
   "outputs": [
    {
     "name": "stdout",
     "output_type": "stream",
     "text": [
      "lets see x2 array\n",
      "[[ 9  2  6  9]\n",
      " [ 8  3  0  1]\n",
      " [ 0 10  4  6]]\n",
      "\n",
      "\n",
      "create a sub-array that is the first 2 rows and columns of x2\n",
      "x2_sub1 =\n",
      "[[9 2]\n",
      " [8 3]]\n",
      "\n",
      "\n",
      "let's modify the second row the sub array\n",
      "\n",
      "\n",
      "let's see if it impacts the original x2 array\n",
      "x2 =\n",
      "[[  9   2   6   9]\n",
      " [101 102   0   1]\n",
      " [  0  10   4   6]]\n",
      "\n",
      "\n",
      "hence we create sub-arrays usign copy method \n",
      "\n",
      "let's replace x2 back to its original version\n",
      "\n",
      "\n",
      "lets create a new sub_array\n",
      "x2_sub2 =\n",
      "[[9 2]\n",
      " [8 3]]\n",
      "\n",
      "\n",
      "let's modify the second row the sub array\n",
      "\n",
      "\n",
      "new x2_sub2 =\n",
      "[[  9   2]\n",
      " [101 102]]\n",
      "\n",
      "\n",
      "let's see if it impacts the original x2 array\n",
      "x2 =\n",
      "[[ 9  2  6  9]\n",
      " [ 8  3  0  1]\n",
      " [ 0 10  4  6]]\n",
      "\n",
      "\n",
      "no impact this time\n"
     ]
    }
   ],
   "source": [
    "x2_original = x2.copy()\n",
    "\n",
    "print(\"lets see x2 array\")\n",
    "print(x2)\n",
    "print(\"\\n\")\n",
    "\n",
    "print(\"create a sub-array that is the first 2 rows and columns of x2\")\n",
    "x2_sub1 = x2[:2, :2]\n",
    "print(\"x2_sub1 =\")\n",
    "print(x2_sub1)\n",
    "print(\"\\n\")\n",
    "\n",
    "print(\"let's modify the second row the sub array\")\n",
    "x2_sub1[1, :] = [101, 102]\n",
    "print(\"\\n\")\n",
    "\n",
    "print(\"let's see if it impacts the original x2 array\")\n",
    "print(\"x2 =\")\n",
    "print(x2)\n",
    "print(\"\\n\")\n",
    "\n",
    "print(\"hence we create sub-arrays usign copy method \\n\")\n",
    "\n",
    "print(\"let's replace x2 back to its original version\")\n",
    "x2 = x2_original\n",
    "print(\"\\n\")\n",
    "\n",
    "print(\"lets create a new sub_array\")\n",
    "x2_sub2 = x2.copy()[:2, :2]\n",
    "print(\"x2_sub2 =\")\n",
    "print(x2_sub2)\n",
    "print(\"\\n\")\n",
    "\n",
    "print(\"let's modify the second row the sub array\")\n",
    "x2_sub2[1, :] = [101, 102]\n",
    "print(\"\\n\")\n",
    "\n",
    "print(\"new x2_sub2 =\")\n",
    "print(x2_sub2)\n",
    "print(\"\\n\")\n",
    "\n",
    "print(\"let's see if it impacts the original x2 array\")\n",
    "print(\"x2 =\")\n",
    "print(x2)\n",
    "print(\"\\n\")\n",
    "\n",
    "print(\"no impact this time\")"
   ]
  },
  {
   "cell_type": "markdown",
   "metadata": {},
   "source": [
    "### Reshaping Arrays"
   ]
  },
  {
   "cell_type": "code",
   "execution_count": 86,
   "metadata": {},
   "outputs": [
    {
     "data": {
      "text/plain": [
       "array([1, 2, 3, 4, 5, 6, 7, 8, 9])"
      ]
     },
     "execution_count": 86,
     "metadata": {},
     "output_type": "execute_result"
    }
   ],
   "source": [
    "x1 = np.arange(1,10)\n",
    "x1"
   ]
  },
  {
   "cell_type": "code",
   "execution_count": 87,
   "metadata": {},
   "outputs": [
    {
     "name": "stdout",
     "output_type": "stream",
     "text": [
      "shape of x1 = (9,)\n"
     ]
    }
   ],
   "source": [
    "print(\"shape of x1 =\", x1.shape)"
   ]
  },
  {
   "cell_type": "code",
   "execution_count": 88,
   "metadata": {},
   "outputs": [
    {
     "name": "stdout",
     "output_type": "stream",
     "text": [
      "[[1 2 3]\n",
      " [4 5 6]\n",
      " [7 8 9]]\n",
      "(3, 3)\n"
     ]
    }
   ],
   "source": [
    "x2 = x1.reshape((3,3))\n",
    "print(x2)\n",
    "print(x2.shape)"
   ]
  },
  {
   "cell_type": "code",
   "execution_count": 89,
   "metadata": {},
   "outputs": [
    {
     "data": {
      "text/plain": [
       "array([1, 2, 3])"
      ]
     },
     "execution_count": 89,
     "metadata": {},
     "output_type": "execute_result"
    }
   ],
   "source": [
    "# reshaping to 2d row matrix or column matrix\n",
    "\n",
    "x1 = np.array([1,2,3])\n",
    "x1"
   ]
  },
  {
   "cell_type": "code",
   "execution_count": 90,
   "metadata": {},
   "outputs": [
    {
     "data": {
      "text/plain": [
       "(3,)"
      ]
     },
     "execution_count": 90,
     "metadata": {},
     "output_type": "execute_result"
    }
   ],
   "source": [
    "x1.shape"
   ]
  },
  {
   "cell_type": "code",
   "execution_count": 93,
   "metadata": {},
   "outputs": [
    {
     "data": {
      "text/plain": [
       "array([[1, 2, 3]])"
      ]
     },
     "execution_count": 93,
     "metadata": {},
     "output_type": "execute_result"
    }
   ],
   "source": [
    "x2 = x1.reshape((1,3)) #reshape to row matrix\n",
    "x2"
   ]
  },
  {
   "cell_type": "code",
   "execution_count": 94,
   "metadata": {},
   "outputs": [
    {
     "data": {
      "text/plain": [
       "(1, 3)"
      ]
     },
     "execution_count": 94,
     "metadata": {},
     "output_type": "execute_result"
    }
   ],
   "source": [
    "x2.shape"
   ]
  },
  {
   "cell_type": "code",
   "execution_count": 95,
   "metadata": {},
   "outputs": [
    {
     "data": {
      "text/plain": [
       "array([[1],\n",
       "       [2],\n",
       "       [3]])"
      ]
     },
     "execution_count": 95,
     "metadata": {},
     "output_type": "execute_result"
    }
   ],
   "source": [
    "x3 = x1.reshape((3,1)) #reshape to column matrix\n",
    "x3"
   ]
  },
  {
   "cell_type": "code",
   "execution_count": 96,
   "metadata": {},
   "outputs": [
    {
     "data": {
      "text/plain": [
       "(3, 1)"
      ]
     },
     "execution_count": 96,
     "metadata": {},
     "output_type": "execute_result"
    }
   ],
   "source": [
    "x3.shape"
   ]
  },
  {
   "cell_type": "markdown",
   "metadata": {},
   "source": [
    "### Array Concatenation and Splitting"
   ]
  },
  {
   "cell_type": "code",
   "execution_count": null,
   "metadata": {},
   "outputs": [],
   "source": []
  },
  {
   "cell_type": "code",
   "execution_count": null,
   "metadata": {},
   "outputs": [],
   "source": []
  }
 ],
 "metadata": {
  "kernelspec": {
   "display_name": "Python 3",
   "language": "python",
   "name": "python3"
  },
  "language_info": {
   "codemirror_mode": {
    "name": "ipython",
    "version": 3
   },
   "file_extension": ".py",
   "mimetype": "text/x-python",
   "name": "python",
   "nbconvert_exporter": "python",
   "pygments_lexer": "ipython3",
   "version": "3.8.3"
  }
 },
 "nbformat": 4,
 "nbformat_minor": 4
}
